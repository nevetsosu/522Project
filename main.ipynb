{
 "cells": [
  {
   "cell_type": "code",
   "execution_count": null,
   "metadata": {},
   "outputs": [],
   "source": [
    "import numpy as np\n",
    "import pandas as pd\n",
    "import matplotlib.pyplot as plt\n",
    "import lightgbm as lgb\n",
    "\n",
    "from sklearn.model_selection import train_test_split, KFold\n",
    "from sklearn.preprocessing import LabelEncoder, StandardScaler\n",
    "from sklearn.discriminant_analysis import LinearDiscriminantAnalysis\n",
    "from sklearn.metrics import roc_auc_score\n",
    "from sklearn.feature_selection import SelectKBest, f_classif\n",
    "from sklearn.decomposition import PCA\n",
    "from sklearn.manifold import TSNE\n",
    "from sklearn.tree import DecisionTreeClassifier\n",
    "from sklearn.ensemble import RandomForestClassifier"
   ]
  },
  {
   "cell_type": "code",
   "execution_count": 2,
   "metadata": {},
   "outputs": [],
   "source": [
    "def display_missing(df):\n",
    "    print('Missing values in training data:')\n",
    "    for col in df.columns.tolist():\n",
    "        num_null = df[col].isnull().sum()\n",
    "        if num_null > 0:\n",
    "            print(f'{col}: {num_null} missing values')\n",
    "\n",
    "def fill_missing(df):\n",
    "    for col in df.columns:\n",
    "        if df[col].dtype == 'category':\n",
    "            df.fillna({col: df[col].mode()[0]}, inplace=True)\n",
    "        else:\n",
    "            df.fillna({col: df[col].median()}, inplace=True)\n",
    "\n",
    "def display_tSNE(X, Y):\n",
    "    tsne = TSNE(n_components=2, random_state=42)\n",
    "    X_tsne = tsne.fit_transform(X)\n",
    "    print(f't-SNE  dimension reduced to {X_tsne.shape[1]}')\n",
    "\n",
    "    # Create a scatter plot with colorization based on labels\n",
    "    plt.figure(figsize=(8, 6))\n",
    "    scatter = plt.scatter(X_tsne[:, 0], X_tsne[:, 1], c=Y, cmap='viridis', s=50, edgecolor='k')\n",
    "\n",
    "    # Add a color bar to the plot for clarity\n",
    "    plt.colorbar(scatter)\n",
    "\n",
    "    # Add labels and title\n",
    "    plt.xlabel('t-SNE 1')\n",
    "    plt.ylabel('t-SNE 2')\n",
    "    plt.title('2D t-SNE with Colorization')\n",
    "\n",
    "    # Show the plot\n",
    "    plt.show()"
   ]
  },
  {
   "cell_type": "code",
   "execution_count": null,
   "metadata": {},
   "outputs": [],
   "source": [
    "def test_LGBM(X, Y, test_size):\n",
    "     X_train, X_val, y_train, y_val = train_test_split(X, Y, test_size=test_size, random_state=42)\n",
    "\n",
    "     # LightGBM model for standard scaled data\n",
    "     lgb_model_scaled = lgb.LGBMClassifier(random_state=42)\n",
    "     lgb_model_scaled.fit(X_train, y_train)\n",
    "\n",
    "     # Make predictions on validation set\n",
    "     y_pred_scaled = lgb_model_scaled.predict_proba(X_val)[:, 1]\n",
    "     auc_scaled = roc_auc_score(y_val, y_pred_scaled)\n",
    "\n",
    "     print(f\"---- AUC score LGBM: {auc_scaled} ----\")\n",
    "\n",
    "def test_DTree(X, Y, test_size):\n",
    "     X_train, X_val, y_train, y_val = train_test_split(X, Y, test_size=test_size, random_state=42)\n",
    "\n",
    "     # LightGBM model for standard scaled data\n",
    "     lgb_model_scaled = DecisionTreeClassifier(random_state=42)\n",
    "     lgb_model_scaled.fit(X_train, y_train)\n",
    "\n",
    "     # Make predictions on validation set\n",
    "     y_pred_scaled = lgb_model_scaled.predict_proba(X_val)[:, 1]\n",
    "     auc_scaled = roc_auc_score(y_val, y_pred_scaled)\n",
    "\n",
    "     print(f\"---- AUC score DTree: {auc_scaled} ----\")\n",
    "\n",
    "def test_RForest(X, Y, test_size):\n",
    "     X_train, X_val, y_train, y_val = train_test_split(X, Y, test_size=test_size, random_state=42)\n",
    "\n",
    "     # LightGBM model for standard scaled data\n",
    "     lgb_model_scaled = RandomForestClassifier(n_estimators=100, random_state=42)\n",
    "     lgb_model_scaled.fit(X_train, y_train)\n",
    "\n",
    "     # Make predictions on validation set\n",
    "     y_pred_scaled = lgb_model_scaled.predict_proba(X_val)[:, 1]\n",
    "     auc_scaled = roc_auc_score(y_val, y_pred_scaled)\n",
    "\n",
    "     print(f\"---- AUC score RForest: {auc_scaled} ----\")"
   ]
  },
  {
   "cell_type": "code",
   "execution_count": 4,
   "metadata": {},
   "outputs": [],
   "source": [
    "INDEX='MachineIdentifier'\n",
    "LABELS='HasDetections'"
   ]
  },
  {
   "cell_type": "code",
   "execution_count": 5,
   "metadata": {},
   "outputs": [],
   "source": [
    "dtypes = {\n",
    "          'MachineIdentifier':                                    'category',\n",
    "          'ProductName':                                          'category',\n",
    "          'EngineVersion':                                        'category',\n",
    "          'AppVersion':                                           'category',\n",
    "          'AvSigVersion':                                         'category',\n",
    "          'IsBeta':                                               'Int8',\n",
    "          'RtpStateBitfield':                                     'float32',\n",
    "          'IsSxsPassiveMode':                                     'Int8',\n",
    "          'DefaultBrowsersIdentifier':                            'float32',\n",
    "          'AVProductStatesIdentifier':                            'float32',\n",
    "          'AVProductsInstalled':                                  'float32',\n",
    "          'AVProductsEnabled':                                    'float32',\n",
    "          'HasTpm':                                               'Int8',\n",
    "          'CountryIdentifier':                                    'int32',\n",
    "          'CityIdentifier':                                       'float32',\n",
    "          'OrganizationIdentifier':                               'float32',\n",
    "          'GeoNameIdentifier':                                    'float32',\n",
    "          'LocaleEnglishNameIdentifier':                          'int32',\n",
    "          'Platform':                                             'category',\n",
    "          'Processor':                                            'category',\n",
    "          'OsVer':                                                'category',\n",
    "          'OsBuild':                                              'int16',\n",
    "          'OsSuite':                                              'int16',\n",
    "          'OsPlatformSubRelease':                                 'category',\n",
    "          'OsBuildLab':                                           'category',\n",
    "          'SkuEdition':                                           'category',\n",
    "          'IsProtected':                                          'float32',\n",
    "          'AutoSampleOptIn':                                      'Int8',\n",
    "          'PuaMode':                                              'category',\n",
    "          'SMode':                                                'float32',\n",
    "          'IeVerIdentifier':                                      'float32',\n",
    "          'SmartScreen':                                          'category',\n",
    "          'Firewall':                                             'float32',\n",
    "          'UacLuaenable':                                         'float64',\n",
    "          'Census_MDC2FormFactor':                                'category',\n",
    "          'Census_DeviceFamily':                                  'category',\n",
    "          'Census_OEMNameIdentifier':                             'float32',\n",
    "          'Census_OEMModelIdentifier':                            'float32',\n",
    "          'Census_ProcessorCoreCount':                            'float32',\n",
    "          'Census_ProcessorManufacturerIdentifier':               'float32',\n",
    "          'Census_ProcessorModelIdentifier':                      'float32',\n",
    "          'Census_ProcessorClass':                                'category',\n",
    "          'Census_PrimaryDiskTotalCapacity':                      'float32',\n",
    "          'Census_PrimaryDiskTypeName':                           'category',\n",
    "          'Census_SystemVolumeTotalCapacity':                     'float32',\n",
    "          'Census_HasOpticalDiskDrive':                           'Int8',\n",
    "          'Census_TotalPhysicalRAM':                              'float32',\n",
    "          'Census_ChassisTypeName':                               'category',\n",
    "          'Census_InternalPrimaryDiagonalDisplaySizeInInches':    'float32',\n",
    "          'Census_InternalPrimaryDisplayResolutionHorizontal':    'float32',\n",
    "          'Census_InternalPrimaryDisplayResolutionVertical':      'float32',\n",
    "          'Census_PowerPlatformRoleName':                         'category',\n",
    "          'Census_InternalBatteryType':                           'category',\n",
    "          'Census_InternalBatteryNumberOfCharges':                'float32',\n",
    "          'Census_OSVersion':                                     'category',\n",
    "          'Census_OSArchitecture':                                'category',\n",
    "          'Census_OSBranch':                                      'category',\n",
    "          'Census_OSBuildNumber':                                 'int32',\n",
    "          'Census_OSBuildRevision':                               'int32',\n",
    "          'Census_OSEdition':                                     'category',\n",
    "          'Census_OSSkuName':                                     'category',\n",
    "          'Census_OSInstallTypeName':                             'category',\n",
    "          'Census_OSInstallLanguageIdentifier':                   'float32',\n",
    "          'Census_OSUILocaleIdentifier':                          'int32',\n",
    "          'Census_OSWUAutoUpdateOptionsName':                     'category',\n",
    "          'Census_IsPortableOperatingSystem':                     'Int8',\n",
    "          'Census_GenuineStateName':                              'category',\n",
    "          'Census_ActivationChannel':                             'category',\n",
    "          'Census_IsFlightingInternal':                           'float32',\n",
    "          'Census_IsFlightsDisabled':                             'float32',\n",
    "          'Census_FlightRing':                                    'category',\n",
    "          'Census_ThresholdOptIn':                                'float32',\n",
    "          'Census_FirmwareManufacturerIdentifier':                'float32',\n",
    "          'Census_FirmwareVersionIdentifier':                     'float32',\n",
    "          'Census_IsSecureBootEnabled':                           'Int8',\n",
    "          'Census_IsWIMBootEnabled':                              'float32',\n",
    "          'Census_IsVirtualDevice':                               'float32',\n",
    "          'Census_IsTouchEnabled':                                'Int8',\n",
    "          'Census_IsPenCapable':                                  'Int8',\n",
    "          'Census_IsAlwaysOnAlwaysConnectedCapable':              'float32',\n",
    "          'Wdft_IsGamer':                                         'float32',\n",
    "          'Wdft_RegionIdentifier':                                'float32',\n",
    "          'HasDetections':                                        'Int8'\n",
    "     }"
   ]
  },
  {
   "cell_type": "code",
   "execution_count": 6,
   "metadata": {},
   "outputs": [
    {
     "name": "stdout",
     "output_type": "stream",
     "text": [
      "loading training data\n"
     ]
    }
   ],
   "source": [
    "print(\"loading training data\")\n",
    "train_df = pd.read_csv('train.csv', dtype=dtypes, nrows=1000000)\n",
    "train_df.drop(columns=INDEX, axis=1, inplace=True)                      # ignore machine identifier\n",
    "has_detections = train_df.pop(LABELS)"
   ]
  },
  {
   "cell_type": "code",
   "execution_count": 7,
   "metadata": {},
   "outputs": [
    {
     "name": "stdout",
     "output_type": "stream",
     "text": [
      "filling missing entries\n",
      "Missing values in training data:\n"
     ]
    }
   ],
   "source": [
    "# Fill missing\n",
    "print(\"filling missing entries\")\n",
    "fill_missing(train_df)\n",
    "display_missing(train_df)"
   ]
  },
  {
   "cell_type": "code",
   "execution_count": 8,
   "metadata": {},
   "outputs": [
    {
     "name": "stdout",
     "output_type": "stream",
     "text": [
      "label encoding categorical features\n"
     ]
    }
   ],
   "source": [
    "# Label encode categorical variables\n",
    "print(\"label encoding categorical features\")\n",
    "categorical = [col for col in train_df.columns if train_df[col].dtype == 'category']\n",
    "for col in categorical:\n",
    "     le = LabelEncoder()\n",
    "     train_df[col] = le.fit_transform(train_df[col].astype(str))"
   ]
  },
  {
   "cell_type": "code",
   "execution_count": null,
   "metadata": {},
   "outputs": [],
   "source": [
    "# Set features and labels\n",
    "X = train_df\n",
    "Y = has_detections"
   ]
  },
  {
   "cell_type": "code",
   "execution_count": 10,
   "metadata": {},
   "outputs": [],
   "source": [
    "# Standardize features\n",
    "scaler = StandardScaler()\n",
    "X_scaled = scaler.fit_transform(X)\n",
    "del X"
   ]
  },
  {
   "cell_type": "markdown",
   "metadata": {},
   "source": [
    "Test with all features"
   ]
  },
  {
   "cell_type": "code",
   "execution_count": 17,
   "metadata": {},
   "outputs": [
    {
     "name": "stdout",
     "output_type": "stream",
     "text": [
      "---- AUC score DTree: 0.5720658455326338 ----\n",
      "[LightGBM] [Info] Number of positive: 399833, number of negative: 400167\n",
      "[LightGBM] [Info] Auto-choosing row-wise multi-threading, the overhead of testing was 0.067232 seconds.\n",
      "You can set `force_row_wise=true` to remove the overhead.\n",
      "And if memory is not enough, you can set `force_col_wise=true`.\n",
      "[LightGBM] [Info] Total Bins 5214\n",
      "[LightGBM] [Info] Number of data points in the train set: 800000, number of used features: 75\n",
      "[LightGBM] [Info] [binary:BoostFromScore]: pavg=0.499791 -> initscore=-0.000835\n",
      "[LightGBM] [Info] Start training from score -0.000835\n",
      "---- AUC score LGBM: 0.71345124843805 ----\n"
     ]
    },
    {
     "ename": "NameError",
     "evalue": "name 'test_RForest' is not defined",
     "output_type": "error",
     "traceback": [
      "\u001b[0;31m---------------------------------------------------------------------------\u001b[0m",
      "\u001b[0;31mNameError\u001b[0m                                 Traceback (most recent call last)",
      "Cell \u001b[0;32mIn[17], line 3\u001b[0m\n\u001b[1;32m      1\u001b[0m test_DTree(X_scaled, Y, test_size\u001b[38;5;241m=\u001b[39m\u001b[38;5;241m0.2\u001b[39m)\n\u001b[1;32m      2\u001b[0m test_LGBM(X_scaled, Y, test_size\u001b[38;5;241m=\u001b[39m\u001b[38;5;241m0.2\u001b[39m)\n\u001b[0;32m----> 3\u001b[0m \u001b[43mtest_RForest\u001b[49m(X_scaled, Y, test_size\u001b[38;5;241m=\u001b[39m\u001b[38;5;241m0.2\u001b[39m)\n",
      "\u001b[0;31mNameError\u001b[0m: name 'test_RForest' is not defined"
     ]
    }
   ],
   "source": [
    "test_DTree(X_scaled, Y, test_size=0.2)\n",
    "test_LGBM(X_scaled, Y, test_size=0.2)\n",
    "test_RForest(X_scaled, Y, test_size=0.2)"
   ]
  },
  {
   "cell_type": "markdown",
   "metadata": {},
   "source": [
    "# Dimensionality Reduction"
   ]
  },
  {
   "cell_type": "code",
   "execution_count": 13,
   "metadata": {},
   "outputs": [
    {
     "name": "stdout",
     "output_type": "stream",
     "text": [
      "Num GPUs Available:  0\n",
      "Epoch 1/50\n",
      "\u001b[1m3907/3907\u001b[0m \u001b[32m━━━━━━━━━━━━━━━━━━━━\u001b[0m\u001b[37m\u001b[0m \u001b[1m8s\u001b[0m 2ms/step - loss: 0.7950\n",
      "Epoch 2/50\n",
      "\u001b[1m3907/3907\u001b[0m \u001b[32m━━━━━━━━━━━━━━━━━━━━\u001b[0m\u001b[37m\u001b[0m \u001b[1m7s\u001b[0m 2ms/step - loss: 0.7027\n",
      "Epoch 3/50\n",
      "\u001b[1m3907/3907\u001b[0m \u001b[32m━━━━━━━━━━━━━━━━━━━━\u001b[0m\u001b[37m\u001b[0m \u001b[1m7s\u001b[0m 2ms/step - loss: 0.6811\n",
      "Epoch 4/50\n",
      "\u001b[1m3907/3907\u001b[0m \u001b[32m━━━━━━━━━━━━━━━━━━━━\u001b[0m\u001b[37m\u001b[0m \u001b[1m7s\u001b[0m 2ms/step - loss: 0.6623\n",
      "Epoch 5/50\n",
      "\u001b[1m3907/3907\u001b[0m \u001b[32m━━━━━━━━━━━━━━━━━━━━\u001b[0m\u001b[37m\u001b[0m \u001b[1m7s\u001b[0m 2ms/step - loss: 0.6885\n",
      "Epoch 6/50\n",
      "\u001b[1m3907/3907\u001b[0m \u001b[32m━━━━━━━━━━━━━━━━━━━━\u001b[0m\u001b[37m\u001b[0m \u001b[1m7s\u001b[0m 2ms/step - loss: 0.6933\n",
      "Epoch 7/50\n",
      "\u001b[1m3907/3907\u001b[0m \u001b[32m━━━━━━━━━━━━━━━━━━━━\u001b[0m\u001b[37m\u001b[0m \u001b[1m7s\u001b[0m 2ms/step - loss: 0.6723\n",
      "Epoch 8/50\n",
      "\u001b[1m3907/3907\u001b[0m \u001b[32m━━━━━━━━━━━━━━━━━━━━\u001b[0m\u001b[37m\u001b[0m \u001b[1m7s\u001b[0m 2ms/step - loss: 0.6661\n",
      "Epoch 9/50\n",
      "\u001b[1m3907/3907\u001b[0m \u001b[32m━━━━━━━━━━━━━━━━━━━━\u001b[0m\u001b[37m\u001b[0m \u001b[1m7s\u001b[0m 2ms/step - loss: 0.7067\n",
      "Epoch 10/50\n",
      "\u001b[1m3907/3907\u001b[0m \u001b[32m━━━━━━━━━━━━━━━━━━━━\u001b[0m\u001b[37m\u001b[0m \u001b[1m7s\u001b[0m 2ms/step - loss: 0.6883\n",
      "Epoch 11/50\n",
      "\u001b[1m3907/3907\u001b[0m \u001b[32m━━━━━━━━━━━━━━━━━━━━\u001b[0m\u001b[37m\u001b[0m \u001b[1m7s\u001b[0m 2ms/step - loss: 0.6822\n",
      "Epoch 12/50\n",
      "\u001b[1m3907/3907\u001b[0m \u001b[32m━━━━━━━━━━━━━━━━━━━━\u001b[0m\u001b[37m\u001b[0m \u001b[1m7s\u001b[0m 2ms/step - loss: 0.7011\n",
      "Epoch 13/50\n",
      "\u001b[1m3907/3907\u001b[0m \u001b[32m━━━━━━━━━━━━━━━━━━━━\u001b[0m\u001b[37m\u001b[0m \u001b[1m7s\u001b[0m 2ms/step - loss: 0.6972\n",
      "Epoch 14/50\n",
      "\u001b[1m3907/3907\u001b[0m \u001b[32m━━━━━━━━━━━━━━━━━━━━\u001b[0m\u001b[37m\u001b[0m \u001b[1m8s\u001b[0m 2ms/step - loss: 0.6914\n",
      "Epoch 15/50\n",
      "\u001b[1m3907/3907\u001b[0m \u001b[32m━━━━━━━━━━━━━━━━━━━━\u001b[0m\u001b[37m\u001b[0m \u001b[1m8s\u001b[0m 2ms/step - loss: 0.6774\n",
      "Epoch 16/50\n",
      "\u001b[1m3907/3907\u001b[0m \u001b[32m━━━━━━━━━━━━━━━━━━━━\u001b[0m\u001b[37m\u001b[0m \u001b[1m7s\u001b[0m 2ms/step - loss: 0.6659\n",
      "Epoch 17/50\n",
      "\u001b[1m3907/3907\u001b[0m \u001b[32m━━━━━━━━━━━━━━━━━━━━\u001b[0m\u001b[37m\u001b[0m \u001b[1m7s\u001b[0m 2ms/step - loss: 0.6817\n",
      "Epoch 18/50\n",
      "\u001b[1m3907/3907\u001b[0m \u001b[32m━━━━━━━━━━━━━━━━━━━━\u001b[0m\u001b[37m\u001b[0m \u001b[1m7s\u001b[0m 2ms/step - loss: 0.7172\n",
      "Epoch 19/50\n",
      "\u001b[1m3907/3907\u001b[0m \u001b[32m━━━━━━━━━━━━━━━━━━━━\u001b[0m\u001b[37m\u001b[0m \u001b[1m7s\u001b[0m 2ms/step - loss: 0.6942\n",
      "Epoch 20/50\n",
      "\u001b[1m3907/3907\u001b[0m \u001b[32m━━━━━━━━━━━━━━━━━━━━\u001b[0m\u001b[37m\u001b[0m \u001b[1m7s\u001b[0m 2ms/step - loss: 0.6923\n",
      "Epoch 21/50\n",
      "\u001b[1m3907/3907\u001b[0m \u001b[32m━━━━━━━━━━━━━━━━━━━━\u001b[0m\u001b[37m\u001b[0m \u001b[1m7s\u001b[0m 2ms/step - loss: 0.6714\n",
      "Epoch 22/50\n",
      "\u001b[1m3907/3907\u001b[0m \u001b[32m━━━━━━━━━━━━━━━━━━━━\u001b[0m\u001b[37m\u001b[0m \u001b[1m8s\u001b[0m 2ms/step - loss: 0.6694\n",
      "Epoch 23/50\n",
      "\u001b[1m3907/3907\u001b[0m \u001b[32m━━━━━━━━━━━━━━━━━━━━\u001b[0m\u001b[37m\u001b[0m \u001b[1m7s\u001b[0m 2ms/step - loss: 0.6759\n",
      "Epoch 24/50\n",
      "\u001b[1m3907/3907\u001b[0m \u001b[32m━━━━━━━━━━━━━━━━━━━━\u001b[0m\u001b[37m\u001b[0m \u001b[1m7s\u001b[0m 2ms/step - loss: 0.6693\n",
      "Epoch 25/50\n",
      "\u001b[1m3907/3907\u001b[0m \u001b[32m━━━━━━━━━━━━━━━━━━━━\u001b[0m\u001b[37m\u001b[0m \u001b[1m7s\u001b[0m 2ms/step - loss: 0.7127\n",
      "Epoch 26/50\n",
      "\u001b[1m3907/3907\u001b[0m \u001b[32m━━━━━━━━━━━━━━━━━━━━\u001b[0m\u001b[37m\u001b[0m \u001b[1m7s\u001b[0m 2ms/step - loss: 0.6846\n",
      "Epoch 27/50\n",
      "\u001b[1m3907/3907\u001b[0m \u001b[32m━━━━━━━━━━━━━━━━━━━━\u001b[0m\u001b[37m\u001b[0m \u001b[1m7s\u001b[0m 2ms/step - loss: 0.6918\n",
      "Epoch 28/50\n",
      "\u001b[1m3907/3907\u001b[0m \u001b[32m━━━━━━━━━━━━━━━━━━━━\u001b[0m\u001b[37m\u001b[0m \u001b[1m8s\u001b[0m 2ms/step - loss: 0.6910\n",
      "Epoch 29/50\n",
      "\u001b[1m3907/3907\u001b[0m \u001b[32m━━━━━━━━━━━━━━━━━━━━\u001b[0m\u001b[37m\u001b[0m \u001b[1m7s\u001b[0m 2ms/step - loss: 0.6802\n",
      "Epoch 30/50\n",
      "\u001b[1m3907/3907\u001b[0m \u001b[32m━━━━━━━━━━━━━━━━━━━━\u001b[0m\u001b[37m\u001b[0m \u001b[1m7s\u001b[0m 2ms/step - loss: 0.7008\n",
      "Epoch 31/50\n",
      "\u001b[1m3907/3907\u001b[0m \u001b[32m━━━━━━━━━━━━━━━━━━━━\u001b[0m\u001b[37m\u001b[0m \u001b[1m7s\u001b[0m 2ms/step - loss: 0.6783\n",
      "Epoch 32/50\n",
      "\u001b[1m3907/3907\u001b[0m \u001b[32m━━━━━━━━━━━━━━━━━━━━\u001b[0m\u001b[37m\u001b[0m \u001b[1m7s\u001b[0m 2ms/step - loss: 0.6936\n",
      "Epoch 33/50\n",
      "\u001b[1m3907/3907\u001b[0m \u001b[32m━━━━━━━━━━━━━━━━━━━━\u001b[0m\u001b[37m\u001b[0m \u001b[1m7s\u001b[0m 2ms/step - loss: 0.6762\n",
      "Epoch 34/50\n",
      "\u001b[1m3907/3907\u001b[0m \u001b[32m━━━━━━━━━━━━━━━━━━━━\u001b[0m\u001b[37m\u001b[0m \u001b[1m7s\u001b[0m 2ms/step - loss: 0.6935\n",
      "Epoch 35/50\n",
      "\u001b[1m3907/3907\u001b[0m \u001b[32m━━━━━━━━━━━━━━━━━━━━\u001b[0m\u001b[37m\u001b[0m \u001b[1m7s\u001b[0m 2ms/step - loss: 0.7150\n",
      "Epoch 36/50\n",
      "\u001b[1m3907/3907\u001b[0m \u001b[32m━━━━━━━━━━━━━━━━━━━━\u001b[0m\u001b[37m\u001b[0m \u001b[1m7s\u001b[0m 2ms/step - loss: 0.6886\n",
      "Epoch 37/50\n",
      "\u001b[1m3907/3907\u001b[0m \u001b[32m━━━━━━━━━━━━━━━━━━━━\u001b[0m\u001b[37m\u001b[0m \u001b[1m7s\u001b[0m 2ms/step - loss: 0.6673\n",
      "Epoch 38/50\n",
      "\u001b[1m3907/3907\u001b[0m \u001b[32m━━━━━━━━━━━━━━━━━━━━\u001b[0m\u001b[37m\u001b[0m \u001b[1m7s\u001b[0m 2ms/step - loss: 0.7028\n",
      "Epoch 39/50\n",
      "\u001b[1m3907/3907\u001b[0m \u001b[32m━━━━━━━━━━━━━━━━━━━━\u001b[0m\u001b[37m\u001b[0m \u001b[1m7s\u001b[0m 2ms/step - loss: 0.6792\n",
      "Epoch 40/50\n",
      "\u001b[1m3907/3907\u001b[0m \u001b[32m━━━━━━━━━━━━━━━━━━━━\u001b[0m\u001b[37m\u001b[0m \u001b[1m7s\u001b[0m 2ms/step - loss: 0.6831\n",
      "Epoch 41/50\n",
      "\u001b[1m3907/3907\u001b[0m \u001b[32m━━━━━━━━━━━━━━━━━━━━\u001b[0m\u001b[37m\u001b[0m \u001b[1m7s\u001b[0m 2ms/step - loss: 0.6807\n",
      "Epoch 42/50\n",
      "\u001b[1m3907/3907\u001b[0m \u001b[32m━━━━━━━━━━━━━━━━━━━━\u001b[0m\u001b[37m\u001b[0m \u001b[1m7s\u001b[0m 2ms/step - loss: 0.6632\n",
      "Epoch 43/50\n",
      "\u001b[1m3907/3907\u001b[0m \u001b[32m━━━━━━━━━━━━━━━━━━━━\u001b[0m\u001b[37m\u001b[0m \u001b[1m7s\u001b[0m 2ms/step - loss: 0.6969\n",
      "Epoch 44/50\n",
      "\u001b[1m3907/3907\u001b[0m \u001b[32m━━━━━━━━━━━━━━━━━━━━\u001b[0m\u001b[37m\u001b[0m \u001b[1m7s\u001b[0m 2ms/step - loss: 0.6862\n",
      "Epoch 45/50\n",
      "\u001b[1m3907/3907\u001b[0m \u001b[32m━━━━━━━━━━━━━━━━━━━━\u001b[0m\u001b[37m\u001b[0m \u001b[1m7s\u001b[0m 2ms/step - loss: 0.7066\n",
      "Epoch 46/50\n",
      "\u001b[1m3907/3907\u001b[0m \u001b[32m━━━━━━━━━━━━━━━━━━━━\u001b[0m\u001b[37m\u001b[0m \u001b[1m7s\u001b[0m 2ms/step - loss: 0.6724\n",
      "Epoch 47/50\n",
      "\u001b[1m3907/3907\u001b[0m \u001b[32m━━━━━━━━━━━━━━━━━━━━\u001b[0m\u001b[37m\u001b[0m \u001b[1m7s\u001b[0m 2ms/step - loss: 0.6893\n",
      "Epoch 48/50\n",
      "\u001b[1m3907/3907\u001b[0m \u001b[32m━━━━━━━━━━━━━━━━━━━━\u001b[0m\u001b[37m\u001b[0m \u001b[1m7s\u001b[0m 2ms/step - loss: 0.6777\n",
      "Epoch 49/50\n",
      "\u001b[1m3907/3907\u001b[0m \u001b[32m━━━━━━━━━━━━━━━━━━━━\u001b[0m\u001b[37m\u001b[0m \u001b[1m7s\u001b[0m 2ms/step - loss: 0.7033\n",
      "Epoch 50/50\n",
      "\u001b[1m3907/3907\u001b[0m \u001b[32m━━━━━━━━━━━━━━━━━━━━\u001b[0m\u001b[37m\u001b[0m \u001b[1m7s\u001b[0m 2ms/step - loss: 0.7035\n",
      "\u001b[1m31250/31250\u001b[0m \u001b[32m━━━━━━━━━━━━━━━━━━━━\u001b[0m\u001b[37m\u001b[0m \u001b[1m23s\u001b[0m 736us/step\n"
     ]
    }
   ],
   "source": [
    "# Auto encoder\n",
    "import tensorflow as tf\n",
    "from tensorflow.keras import layers, models\n",
    "import numpy as np\n",
    "\n",
    "print(\"Num GPUs Available: \", len(tf.config.experimental.list_physical_devices('GPU')))\n",
    "# Define the Autoencoder model\n",
    "def build_autoencoder(input_dim, encoding_dim):\n",
    "    # Input layer\n",
    "    input_layer = layers.Input(shape=(input_dim,))\n",
    "\n",
    "    # Encoder: Dense layers to compress input\n",
    "    encoded = layers.Dense(encoding_dim, activation='relu')(input_layer)\n",
    "\n",
    "    # Decoder: Dense layers to reconstruct input\n",
    "    decoded = layers.Dense(input_dim, activation='sigmoid')(encoded)\n",
    "\n",
    "    # Create the autoencoder model\n",
    "    autoencoder = models.Model(input_layer, decoded)\n",
    "\n",
    "    # Create the encoder model (only encoding part)\n",
    "    encoder = models.Model(input_layer, encoded)\n",
    "\n",
    "    # Compile the autoencoder model\n",
    "    autoencoder.compile(optimizer='adam', loss='mean_squared_error')\n",
    "\n",
    "    return autoencoder, encoder\n",
    "\n",
    "# Set input and encoding dimensions\n",
    "input_dim = X_scaled.shape[1]\n",
    "encoding_dim = 40\n",
    "\n",
    "# Build the model\n",
    "autoencoder, encoder = build_autoencoder(input_dim, encoding_dim)\n",
    "\n",
    "with tf.device('gpu'):\n",
    "     # Train the model\n",
    "     autoencoder.fit(X_scaled, X_scaled, epochs=50, batch_size=256, shuffle=True)\n",
    "\n",
    "     # To get the encoded representation of some input data:\n",
    "     X_low = encoder.predict(X_scaled)"
   ]
  },
  {
   "cell_type": "code",
   "execution_count": 14,
   "metadata": {},
   "outputs": [],
   "source": [
    "# PCA\n",
    "# pca = PCA(n_components=0.95)\n",
    "# X_low = pca.fit_transform(X_scaled)\n",
    "# print(f'PCA dimension reduced to {X_low.shape[1]}')"
   ]
  },
  {
   "cell_type": "code",
   "execution_count": 15,
   "metadata": {},
   "outputs": [],
   "source": [
    "# This is way too slow with a million points\n",
    "# display t-SNE\n",
    "# display_tSNE(X_low, Y)"
   ]
  },
  {
   "cell_type": "code",
   "execution_count": 16,
   "metadata": {},
   "outputs": [
    {
     "name": "stdout",
     "output_type": "stream",
     "text": [
      "---- AUC score DTree: 0.5553193943627759 ----\n",
      "[LightGBM] [Info] Number of positive: 399833, number of negative: 400167\n",
      "[LightGBM] [Info] Auto-choosing col-wise multi-threading, the overhead of testing was 0.072754 seconds.\n",
      "You can set `force_col_wise=true` to remove the overhead.\n",
      "[LightGBM] [Info] Total Bins 10200\n",
      "[LightGBM] [Info] Number of data points in the train set: 800000, number of used features: 40\n",
      "[LightGBM] [Info] [binary:BoostFromScore]: pavg=0.499791 -> initscore=-0.000835\n",
      "[LightGBM] [Info] Start training from score -0.000835\n",
      "---- AUC score LGBM: 0.6788518569040742 ----\n"
     ]
    }
   ],
   "source": [
    "test_DTree(X_low, Y, test_size=0.2)\n",
    "test_LGBM(X_low, Y, test_size=0.2)"
   ]
  }
 ],
 "metadata": {
  "kernelspec": {
   "display_name": "env",
   "language": "python",
   "name": "python3"
  },
  "language_info": {
   "codemirror_mode": {
    "name": "ipython",
    "version": 3
   },
   "file_extension": ".py",
   "mimetype": "text/x-python",
   "name": "python",
   "nbconvert_exporter": "python",
   "pygments_lexer": "ipython3",
   "version": "3.11.11"
  }
 },
 "nbformat": 4,
 "nbformat_minor": 2
}
