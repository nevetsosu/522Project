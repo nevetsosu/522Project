{
 "cells": [
  {
   "cell_type": "code",
   "execution_count": 1,
   "metadata": {},
   "outputs": [
    {
     "name": "stdout",
     "output_type": "stream",
     "text": [
      "[AUTOENCODER] Num GPUs Available:  0\n"
     ]
    }
   ],
   "source": [
    "import sys\n",
    "\n",
    "from loader import load\n",
    "from reduce import autoencode, pca, lda, cluster_reduce\n",
    "from preprocess import default_preprocess\n",
    "from process import DTree, LGBM, RForest, MLP\n",
    "from fusion import fusion\n",
    "from sklearn.model_selection import train_test_split\n",
    "\n",
    "PREPROCESSORS = {\n",
    "    'default': default_preprocess,\n",
    "    'none': lambda X: X,\n",
    "}\n",
    "\n",
    "DIM_REDUCTIONS = {\n",
    "    'lda': lda,\n",
    "    'pca': lambda X, _: pca(X, n_components=0.95),                              # n_components is set arbitrarily for now\n",
    "    'autoencoder': lambda X, _: autoencode(X, n_components=53, save=True),      # n_components is set arbitrarily for now, the 53 here is what PCA usually chooses at 95%\n",
    "    'hcluster': lambda X, _: cluster_reduce(X, n_components=53, linkage='ward')\n",
    "}\n",
    "\n",
    "PROCESSORS = {\n",
    "    'lgbm': LGBM,\n",
    "    'randomforest': RForest,\n",
    "    'mlp': MLP,\n",
    "}"
   ]
  },
  {
   "cell_type": "code",
   "execution_count": null,
   "metadata": {},
   "outputs": [],
   "source": [
    "def get_predictions(X, Y, test_size, dim_reduce_methods, classifiers):\n",
    "    results = {}\n",
    "\n",
    "    for classifier_name, classifier in classifiers.items():\n",
    "        print(f\"[PROCESS] Running {classifier_name}\")\n",
    "        classifier_results = []\n",
    "        \n",
    "        for dr_name, dr_method in dim_reduce_methods.items():\n",
    "            print(f\"[DIM REDUCE] Applying {dr_name}\")\n",
    "            X_reduced = dr_method(X, Y)\n",
    "            \n",
    "            auc, y_pred = classifier(X_reduced, Y, test_size=test_size)\n",
    "            print(f\"AUC: {auc}\")\n",
    "            classifier_results.append((dr_name, auc, y_pred))\n",
    "        \n",
    "        results[classifier_name] = classifier_results\n",
    "\n",
    "    return results"
   ]
  },
  {
   "cell_type": "code",
   "execution_count": null,
   "metadata": {},
   "outputs": [],
   "source": [
    "X, Y = load()\n",
    "test_size = 0.2\n",
    "\n",
    "X = default_preprocess(X)\n",
    "results = get_predictions(X, Y, test_size, DIM_REDUCTIONS, PROCESSORS)\n",
    "\n",
    "\n",
    "\n"
   ]
  },
  {
   "cell_type": "code",
   "execution_count": null,
   "metadata": {},
   "outputs": [],
   "source": [
    "_, _, _, y_val = train_test_split(X, Y, test_size=test_size, random_state=42)\n",
    "# Fusing same classifier, different DRs\n",
    "for classifier_name, classifier_results in results.items():\n",
    "    print(f\"\\n[FUSION] Fusing predictions for classifier: {classifier_name}\")\n",
    "    prob_predictions = [res[2] for res in classifier_results]\n",
    "    auc_fused = fusion(prob_predictions, y_val)\n",
    "    print(f\"Fused AUC for {classifier_name}: {auc_fused:.4f}\")"
   ]
  },
  {
   "cell_type": "code",
   "execution_count": null,
   "metadata": {},
   "outputs": [],
   "source": [
    "# Fusing different classifiers, same DR\n",
    "for dr_name in DIM_REDUCTIONS.keys():\n",
    "    print(f\"\\n[FUSION] Fusing predictions for DR method: {dr_name}\")\n",
    "    prob_predictions = [\n",
    "        res[2] for classifier_results in results.values()\n",
    "        for dr, _, res in classifier_results if dr == dr_name\n",
    "    ]\n",
    "    auc_fused = fusion(prob_predictions, y_val)\n",
    "    print(f\"Fused AUC for {dr_name}: {auc_fused:.4f}\")"
   ]
  }
 ],
 "metadata": {
  "kernelspec": {
   "display_name": ".venv",
   "language": "python",
   "name": "python3"
  },
  "language_info": {
   "codemirror_mode": {
    "name": "ipython",
    "version": 3
   },
   "file_extension": ".py",
   "mimetype": "text/x-python",
   "name": "python",
   "nbconvert_exporter": "python",
   "pygments_lexer": "ipython3",
   "version": "3.12.8"
  }
 },
 "nbformat": 4,
 "nbformat_minor": 2
}
